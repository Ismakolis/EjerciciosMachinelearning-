{
 "cells": [
  {
   "cell_type": "markdown",
   "id": "52e7c349-25f3-4886-86aa-aefcfa578c9d",
   "metadata": {},
   "source": [
    "<img src=\"img/Recurso-26.png\" width=\"200\">\n",
    "\n",
    "## Ejercicios sobre Funciones\n",
    "\n",
    "![logo](img/python_logo.png)\n",
    "\n",
    "**Ismael Anrrango**  \n",
    "[Link al repositorio](https://github.com/Ismakolis/EjerciciosMachinelearning-.git)\n"
   ]
  },
  {
   "cell_type": "markdown",
   "id": "6470f06a-59d8-481a-af02-e7b92e1ed9c9",
   "metadata": {},
   "source": [
    "1. Escribe una función que reciba como entrada una *lista* con números y devuelva como resultado una *lista* con los cuadrados de los números contenidos en la lista de entrada."
   ]
  },
  {
   "cell_type": "code",
   "execution_count": 2,
   "id": "c9153052-6d25-4c04-896b-0d80dff3e8fc",
   "metadata": {},
   "outputs": [
    {
     "name": "stdout",
     "output_type": "stream",
     "text": [
      "[121, 484, 1089, 1936, 3025, 4356]\n"
     ]
    }
   ],
   "source": [
    "#Defino una lista de numeros\n",
    "lista_numeros = [ 11 , 22, 33 ,44 ,55 ,66]\n",
    "#La funcion va a recivir solo un parametro que seria x\n",
    "\n",
    "def cuadrado(x):\n",
    "    #Una lista vacia que al final se va a retornar\n",
    "    resultado = []\n",
    "    #El ciclo for va a recorrer cada elemento de la lista calculando la potencia de cada uno\n",
    "    for numero in x:\n",
    "        #la variable potencia va a guardar cada elemento elevando a la 2(para eso la funcion pow)\n",
    "        potencia = pow(numero , 2)\n",
    "        #Se añade los elementos a la lista potencia con append\n",
    "        resultado.append(potencia)\n",
    "        #se retorna el resultado.Que es la lista\n",
    "    return resultado\n",
    "#Se imprime, llamando  a la funcion y enviando la lista como parametro\n",
    "print(cuadrado(lista_numeros))\n",
    "\n",
    "\n",
    "\n"
   ]
  },
  {
   "cell_type": "markdown",
   "id": "a10277e8-ccfa-4e4d-ba77-2f204d388b92",
   "metadata": {},
   "source": [
    "2. Escribe una función que reciba números como entrada y devuelva la suma de los mismos. La función debe ser capaz de recibir una cantidad indeterminada de números. La función no debe recibir directamente ningún objeto complejo (lista, conjunto, etc.)."
   ]
  },
  {
   "cell_type": "code",
   "execution_count": 59,
   "id": "8a797d65-669b-411e-876d-a671aefb2578",
   "metadata": {},
   "outputs": [
    {
     "name": "stdin",
     "output_type": "stream",
     "text": [
      "Ingresa un numero:  2\n"
     ]
    },
    {
     "name": "stdout",
     "output_type": "stream",
     "text": [
      "La suma de 0 + 2 es: 2\n"
     ]
    },
    {
     "name": "stdin",
     "output_type": "stream",
     "text": [
      "Ingresa un numero:  2\n"
     ]
    },
    {
     "name": "stdout",
     "output_type": "stream",
     "text": [
      "La suma de 2 + 2 es: 4\n"
     ]
    },
    {
     "name": "stdin",
     "output_type": "stream",
     "text": [
      "Ingresa un numero:  2\n"
     ]
    },
    {
     "name": "stdout",
     "output_type": "stream",
     "text": [
      "La suma de 4 + 2 es: 6\n"
     ]
    },
    {
     "name": "stdin",
     "output_type": "stream",
     "text": [
      "Ingresa un numero:  2\n"
     ]
    },
    {
     "name": "stdout",
     "output_type": "stream",
     "text": [
      "La suma de 6 + 2 es: 8\n"
     ]
    },
    {
     "name": "stdin",
     "output_type": "stream",
     "text": [
      "Ingresa un numero:  3\n"
     ]
    },
    {
     "name": "stdout",
     "output_type": "stream",
     "text": [
      "La suma de 8 + 3 es: 11\n"
     ]
    },
    {
     "name": "stdin",
     "output_type": "stream",
     "text": [
      "Ingresa un numero:  4\n"
     ]
    },
    {
     "name": "stdout",
     "output_type": "stream",
     "text": [
      "La suma de 11 + 4 es: 15\n"
     ]
    },
    {
     "name": "stdin",
     "output_type": "stream",
     "text": [
      "Ingresa un numero:  5\n"
     ]
    },
    {
     "name": "stdout",
     "output_type": "stream",
     "text": [
      "La suma de 15 + 5 es: 20\n"
     ]
    },
    {
     "name": "stdin",
     "output_type": "stream",
     "text": [
      "Ingresa un numero:  -11\n"
     ]
    },
    {
     "name": "stdout",
     "output_type": "stream",
     "text": [
      "Gracias por usar el programa\n"
     ]
    }
   ],
   "source": [
    "#Defino una funcion que recibe dos parametros el total de la suma y x que es el numero ingresado\n",
    "def sumar_numeros (totalSuma, x):\n",
    "        #se suma el total y el nuevo numero\n",
    "        suma = totalSuma + x\n",
    "        #Solo se imprimen variables\n",
    "        print(f\"La suma de {totalSuma} + {x} es: {suma}\")\n",
    "        #Se retorna la suma de los dois numeros\n",
    "        return suma\n",
    "#Esta variable es para guardar el total de la suma actual para enviar a la funcion como parametro\n",
    "totalSuma = 0\n",
    "#Se inicia el ciclo while con un true para que el bucle se ejecute hasta que cumpla una condicion dentro del blucle y el while no lo controle directamente\n",
    "while True:\n",
    "    #Se solicita un numero\n",
    "    numero = input(\"Ingresa un numero: \")\n",
    "    #El if va a controlar si se ingresa un numero o una letra(si se ingresa un caracter de 0-9 isdigit me devuelve un true),\n",
    "    #si se ingresa una letra me devukeve un false \n",
    "    if numero.isdigit():\n",
    "        #como el input ingresa srt se convierte el numero a int\n",
    "        numero = int(numero)\n",
    "        #El total de la suma se iguala a el total de la funcion asi se envia un nuevo parametro cada se se realiza la suma\n",
    "        totalSuma = sumar_numeros(totalSuma ,numero)\n",
    "        #Caso contrario de se cierra el programa con un else y el ciclo finaliza con un break\n",
    "    else:\n",
    "        print(\"Gracias por usar el programa\")\n",
    "        \n",
    "        break"
   ]
  },
  {
   "cell_type": "markdown",
   "id": "c0b37c9f-8c70-428b-b8ac-e8e4cc14c0c6",
   "metadata": {},
   "source": [
    "3. Escribe una función que reciba un string como entrada y devuelva el string al revés. Ejemplo: si el string de entrada es 'hola', el resultado será 'aloh'."
   ]
  },
  {
   "cell_type": "code",
   "execution_count": 147,
   "id": "221bf641-48c4-4a38-af26-333661d70dc7",
   "metadata": {},
   "outputs": [
    {
     "name": "stdout",
     "output_type": "stream",
     "text": [
      "aloH\n"
     ]
    }
   ],
   "source": [
    "def string_invertido (x):\n",
    "    nuevoString = x[::-1]\n",
    "    return nuevoString\n",
    "\n",
    "string = \"Hola\"\n",
    "print(string_invertido(string))\n",
    "        "
   ]
  },
  {
   "cell_type": "markdown",
   "id": "5d8e67d3-f4f3-4aeb-a6df-f21b5a0a192d",
   "metadata": {},
   "source": [
    "4. Escribe una función *lambda* que, al igual que la función desarrollada en el ejercicio anterior, invierta el string recibido como parámetro. Ejemplo: si el string de entrada es 'hola', el resultado será 'aloh'."
   ]
  },
  {
   "cell_type": "code",
   "execution_count": 66,
   "id": "21a2e89d-9d27-4965-9eae-613af993de3c",
   "metadata": {},
   "outputs": [
    {
     "name": "stdout",
     "output_type": "stream",
     "text": [
      "aloH\n"
     ]
    }
   ],
   "source": [
    "#Lo que hago es definir una variablke y asignarle la funcion lambda\n",
    "#lo que hago es que la funcion recive un parametro x y devuelve ese parametro invertido\n",
    "string = lambda x : x[::-1]\n",
    "#Solo llamo la funcion y envio el parsametro\n",
    "print(string(\"Hola\"))"
   ]
  },
  {
   "cell_type": "markdown",
   "id": "c054b40f-288b-446a-a456-a79b7e1f7e2d",
   "metadata": {},
   "source": [
    "5. Escribe una función que compruebe si un número se encuentra dentro de un rango específico."
   ]
  },
  {
   "cell_type": "code",
   "execution_count": 146,
   "id": "f468eca2-d2b5-49a9-a2cb-486c8eac9d6b",
   "metadata": {},
   "outputs": [
    {
     "name": "stdout",
     "output_type": "stream",
     "text": [
      "el numero 2 esta dentro del rango\n"
     ]
    }
   ],
   "source": [
    "def rango_especifico (incio,final,x):\n",
    "        if x in range(inicio,final):\n",
    "            print(f\"el numero {x} esta dentro del rango\")\n",
    "        else:\n",
    "            print(f\"El numero {x} no esta dentro del rango\")\n",
    "            return None\n",
    "            \n",
    "inicio = 1\n",
    "final =  3\n",
    "rango_especifico(inicio,final,2)"
   ]
  },
  {
   "cell_type": "markdown",
   "id": "4882f229-e499-4ec1-b5ba-aaa5cb86f331",
   "metadata": {},
   "source": [
    "6. Escribe una función que reciba un número entero positivo como parámetro y devuelva una lista que contenga los 5 primeros múltiplos de dicho número. Por ejemplo, si la función recibe el número 3, devolverá la lista [3, 6, 9, 12, 15]. Si la función recibe un parámetro incorrecto (por ejemplo, un múmero menor o igual a cero), mostrará un mensaje de error por pantalla y devolverá una lista vacía."
   ]
  },
  {
   "cell_type": "code",
   "execution_count": 144,
   "id": "23e0f408-a4ce-45a3-8ea3-d541d209355a",
   "metadata": {},
   "outputs": [
    {
     "data": {
      "text/plain": [
       "[3, 6, 9, 12, 15]"
      ]
     },
     "execution_count": 144,
     "metadata": {},
     "output_type": "execute_result"
    }
   ],
   "source": [
    "#Defino una funcion que recibe x \n",
    "def multiplos(x):\n",
    "    #se carga una lista que se va a imprimir con o sin elemntos dependiendo la condicion\n",
    "    lista =[]\n",
    "    #El if define si x es mayor a 0 y x es un entro entonces\n",
    "    if x > 0 and x == int(x):\n",
    "        #Se incia un cilo for en donde el rango es de 1 a 6 y se excule el final por la propia fuincion\n",
    "        for i in range(1,6):\n",
    "            #en el resultado se guarda la multiplicaion de x * i que es el valor que recorre en el rango\n",
    "            resultado = x * i\n",
    "            #se añade el resultado en lam lista\n",
    "            lista.append(resultado)\n",
    "        #retorna la lista con elementos\n",
    "        return lista\n",
    "        #caso contrario me devuelve la lista sin elementos\n",
    "    else:\n",
    "        return lista\n",
    "\n",
    "multiplos(3)"
   ]
  },
  {
   "cell_type": "markdown",
   "id": "ca04bca6-a37c-44de-8e10-7228b7ed97cf",
   "metadata": {},
   "source": [
    "7. Escribe una función que reciba una lista como parámetro y compruebe si la lista tiene duplicados. La función devolverá *True* si la lista tiene duplicados y *False* si no los tiene."
   ]
  },
  {
   "cell_type": "code",
   "execution_count": 142,
   "id": "095bbf9a-beb7-4c85-86ae-6bd28f2e6a1d",
   "metadata": {},
   "outputs": [
    {
     "name": "stdout",
     "output_type": "stream",
     "text": [
      "False\n"
     ]
    }
   ],
   "source": [
    "lista2 = [1,1,2,2,3,3,4,4]\n",
    "lista = [ 1 ,2,3,4]\n",
    "#La funcion duplica la lista en la variable y pero en set() que no permite duoplicados\n",
    "def duplicados (x):\n",
    "    y = set(x)\n",
    "    #Con len cargo en numero total de elemntos y comparo. Que si es len es direfetne entonces me devuelve un true caso contrasrio un false\n",
    "    if len(x) != len(y):\n",
    "        print(\"True\")\n",
    "    else:\n",
    "        print(\"False\")\n",
    "    return None\n",
    "\n",
    "duplicados(lista)"
   ]
  },
  {
   "cell_type": "markdown",
   "id": "9cb83fdd-75fe-4f4b-9487-e4438e085662",
   "metadata": {},
   "source": [
    "8. Escribe una función *lambda* que, al igual que la función desarrollada en el ejercicio anterior, reciba una lista como parámetro y compruebe si la lista tiene duplicados. La función devolverá *True* si la lista tiene duplicados y *False* si no los tiene."
   ]
  },
  {
   "cell_type": "code",
   "execution_count": 99,
   "id": "d5f1bde0-3fe1-4783-94f8-f2e3416fb1be",
   "metadata": {},
   "outputs": [
    {
     "name": "stdout",
     "output_type": "stream",
     "text": [
      "False\n",
      "True\n"
     ]
    }
   ],
   "source": [
    "#La funcion recive x como parametro entonces len obtiene el total de elementos y \n",
    "#set convierte la lista en un conjunto que no permite duplicados\n",
    "#!= verifica que s ies diferetne el total de elemetos hay duplicados caso contrario no\n",
    "lista = lambda x :len(x) != len(set(x))\n",
    "print(lista([1,2,3,4]))\n",
    "print(lista([1,1,1,1,2,2,2,2,3,3,3]))"
   ]
  },
  {
   "cell_type": "markdown",
   "id": "bff95f47-43f9-42e1-a059-446955747f1b",
   "metadata": {},
   "source": [
    "9. Escribe una función que compruebe si un string dado es un palíndromo. Un palíndromo es una secuencia de caracteres que se lee igual de izquierda a derecha que de derecha a izquierda. Por ejemplo, la función devolverá *True* si recibe el string \"reconocer\" y *False* si recibe el string \"python\"."
   ]
  },
  {
   "cell_type": "code",
   "execution_count": 116,
   "id": "d90d02dd-8350-4b7b-8e36-fd3011c19068",
   "metadata": {},
   "outputs": [
    {
     "name": "stdout",
     "output_type": "stream",
     "text": [
      "True\n"
     ]
    }
   ],
   "source": [
    "def palindromo(x):\n",
    "    #La funcion lower convierte todos los caracteres de una cadena de texto a minisculas\n",
    "    x = x.lower()\n",
    "    #retorno el valor si x es igual a x pero invertido\n",
    "    return x == x[::-1]\n",
    "\n",
    "string2 = \"Reconocer\"\n",
    "string = \"python\"\n",
    "print(palindromo(string2))"
   ]
  },
  {
   "cell_type": "code",
   "execution_count": null,
   "id": "54e98489-681b-4976-91ad-72590fe666ca",
   "metadata": {},
   "outputs": [],
   "source": []
  }
 ],
 "metadata": {
  "kernelspec": {
   "display_name": "Python [conda env:base] *",
   "language": "python",
   "name": "conda-base-py"
  },
  "language_info": {
   "codemirror_mode": {
    "name": "ipython",
    "version": 3
   },
   "file_extension": ".py",
   "mimetype": "text/x-python",
   "name": "python",
   "nbconvert_exporter": "python",
   "pygments_lexer": "ipython3",
   "version": "3.13.2"
  }
 },
 "nbformat": 4,
 "nbformat_minor": 5
}
