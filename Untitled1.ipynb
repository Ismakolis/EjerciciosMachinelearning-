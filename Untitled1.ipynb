{
 "cells": [
  {
   "cell_type": "code",
   "execution_count": 4,
   "id": "9cd775b1-4bd5-424c-b7ea-0a8f32c9a6d8",
   "metadata": {},
   "outputs": [],
   "source": [
    "import numpy as np\n",
    "import pandas as pd\n"
   ]
  },
  {
   "cell_type": "markdown",
   "id": "87e1e4fc-088a-401f-9d4e-eb3a152c2d54",
   "metadata": {},
   "source": [
    "01\n",
    "Dado un diccionario con una lista de nombres de películas y el año concatenado, crear una función que devuelva un DataFrame con dos columnas:\n",
    "Columna 1, el nombre de la película sin el año\n",
    "Columna 2, el año de la película"
   ]
  },
  {
   "cell_type": "code",
   "execution_count": 15,
   "id": "f12e7c43-7b1d-46bd-9aa3-4bc9a57f2950",
   "metadata": {},
   "outputs": [
    {
     "data": {
      "text/html": [
       "<div>\n",
       "<style scoped>\n",
       "    .dataframe tbody tr th:only-of-type {\n",
       "        vertical-align: middle;\n",
       "    }\n",
       "\n",
       "    .dataframe tbody tr th {\n",
       "        vertical-align: top;\n",
       "    }\n",
       "\n",
       "    .dataframe thead th {\n",
       "        text-align: right;\n",
       "    }\n",
       "</style>\n",
       "<table border=\"1\" class=\"dataframe\">\n",
       "  <thead>\n",
       "    <tr style=\"text-align: right;\">\n",
       "      <th></th>\n",
       "      <th>Name</th>\n",
       "      <th>Year</th>\n",
       "    </tr>\n",
       "  </thead>\n",
       "  <tbody>\n",
       "    <tr>\n",
       "      <th>0</th>\n",
       "      <td>Matrix</td>\n",
       "      <td>1999</td>\n",
       "    </tr>\n",
       "    <tr>\n",
       "      <th>1</th>\n",
       "      <td>Cadena Perpetua</td>\n",
       "      <td>1994</td>\n",
       "    </tr>\n",
       "    <tr>\n",
       "      <th>2</th>\n",
       "      <td>Parasitos</td>\n",
       "      <td>2019</td>\n",
       "    </tr>\n",
       "    <tr>\n",
       "      <th>3</th>\n",
       "      <td>Vengadores, Endgame</td>\n",
       "      <td>2019</td>\n",
       "    </tr>\n",
       "    <tr>\n",
       "      <th>4</th>\n",
       "      <td>Interstellar</td>\n",
       "      <td>2014</td>\n",
       "    </tr>\n",
       "    <tr>\n",
       "      <th>5</th>\n",
       "      <td>Django Desencadenado</td>\n",
       "      <td>2012</td>\n",
       "    </tr>\n",
       "    <tr>\n",
       "      <th>6</th>\n",
       "      <td>El Padrino</td>\n",
       "      <td>1972</td>\n",
       "    </tr>\n",
       "    <tr>\n",
       "      <th>7</th>\n",
       "      <td>El Caballero Oscuro</td>\n",
       "      <td>2008</td>\n",
       "    </tr>\n",
       "    <tr>\n",
       "      <th>8</th>\n",
       "      <td>Erase Una Vez En America</td>\n",
       "      <td>1984</td>\n",
       "    </tr>\n",
       "    <tr>\n",
       "      <th>9</th>\n",
       "      <td>El Senyor de los Anillos, La Comunidad del Anillo</td>\n",
       "      <td>2001</td>\n",
       "    </tr>\n",
       "  </tbody>\n",
       "</table>\n",
       "</div>"
      ],
      "text/plain": [
       "                                                Name  Year\n",
       "0                                             Matrix  1999\n",
       "1                                    Cadena Perpetua  1994\n",
       "2                                          Parasitos  2019\n",
       "3                                Vengadores, Endgame  2019\n",
       "4                                       Interstellar  2014\n",
       "5                               Django Desencadenado  2012\n",
       "6                                         El Padrino  1972\n",
       "7                                El Caballero Oscuro  2008\n",
       "8                           Erase Una Vez En America  1984\n",
       "9  El Senyor de los Anillos, La Comunidad del Anillo  2001"
      ]
     },
     "metadata": {},
     "output_type": "display_data"
    }
   ],
   "source": [
    "\n",
    "movies = {'Name': [\"Matrix - 1999\", \"Cadena Perpetua - 1994\", \"Parasitos - 2019\", \"Vengadores, Endgame - 2019\", \"Interstellar - 2014\",\n",
    "                   \"Django Desencadenado - 2012\", \"El Padrino - 1972\", \"El Caballero Oscuro - 2008\", \"Erase Una Vez En America - 1984\",\n",
    "                   \"El Senyor de los Anillos, La Comunidad del Anillo - 2001\"]}\n",
    "expected_output = pd.DataFrame({'Name':[\"Matrix\", \"Cadena Perpetua\", \"Parasitos\", \"Vengadores, Endgame\", \"Interstellar\", \"Django Desencadenado\",\n",
    "                                        \"El Padrino\", \"El Caballero Oscuro\", \"Erase Una Vez En America\", \"El Senyor de los Anillos, La Comunidad del Anillo\"],\n",
    "                                'Year':[\"1999\", \"1994\", \"2019\", \"2019\", \"2014\", \"2012\", \"1972\", \"2008\", \"1984\", \"2001\"]})\n",
    "output = extract_year(movies)   # This will call your function extract_year\n",
    "display(output)\n",
    "# assert(expected_output.equals(output))  # This will fail if the result is not as expected"
   ]
  },
  {
   "cell_type": "code",
   "execution_count": 14,
   "id": "d950b409-71ed-4ce2-9c6f-6be92e75de39",
   "metadata": {},
   "outputs": [],
   "source": [
    "def extract_year (dicci):\n",
    "    dicci2 = {}\n",
    "    peli = []\n",
    "    anio= []\n",
    "    for i in dicci['Name']:\n",
    "        titulo,year= i.split(\" - \")\n",
    "        peli.append(titulo)\n",
    "        anio.append(int(year))\n",
    "    dicci2 = { 'Name':peli,'Year':anio}\n",
    "    frame = pd.DataFrame(dicci2)\n",
    "    return frame"
   ]
  },
  {
   "cell_type": "code",
   "execution_count": null,
   "id": "cec1853b-f09c-4b17-9ad5-6127be1d4e51",
   "metadata": {},
   "outputs": [],
   "source": []
  }
 ],
 "metadata": {
  "kernelspec": {
   "display_name": "Python [conda env:base] *",
   "language": "python",
   "name": "conda-base-py"
  },
  "language_info": {
   "codemirror_mode": {
    "name": "ipython",
    "version": 3
   },
   "file_extension": ".py",
   "mimetype": "text/x-python",
   "name": "python",
   "nbconvert_exporter": "python",
   "pygments_lexer": "ipython3",
   "version": "3.13.2"
  }
 },
 "nbformat": 4,
 "nbformat_minor": 5
}
