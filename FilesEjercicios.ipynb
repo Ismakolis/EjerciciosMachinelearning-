{
 "cells": [
  {
   "cell_type": "markdown",
   "id": "4dfb512d-0515-4d8a-b4f5-3eae2192ca67",
   "metadata": {},
   "source": [
    "<img src=\"img/Recurso-26.png\" width=\"200\">\n",
    "\n",
    "## Ejercicios de Files(Ficheros)\n",
    "\n",
    "![logo](img/python_logo.png)\n",
    "\n",
    "*Ismael Anrrango*"
   ]
  },
  {
   "cell_type": "markdown",
   "id": "b5556a58-4a9b-41c1-b3cd-eb2bc8c2ad8d",
   "metadata": {},
   "source": [
    "1. Escribe una función que reciba una ruta de un fichero de texto y una cadena de caracteres a buscar y determine si la cadena aparece en el fichero."
   ]
  },
  {
   "cell_type": "code",
   "execution_count": 24,
   "id": "f4db0057-c652-456f-8a0c-941f8d500062",
   "metadata": {},
   "outputs": [
    {
     "name": "stdout",
     "output_type": "stream",
     "text": [
      "La cadena esta en la ruta\n"
     ]
    }
   ],
   "source": [
    "#Imoporot la libreria os para contruir la ruta \n",
    "import os\n",
    "#Defino una funcion que recibe como parametro una ncadena y una ruta\n",
    "def fichero_cadena (cadena,ruta):\n",
    "# Se abre la ruta con with para acceder al recurso y se define un alias\n",
    "    with open(ruta,\"r\") as fichero:\n",
    "        #Se lee el contenifo del fuchero y se guarda en la variable\n",
    "        comprobacion = fichero.read()\n",
    "        #Mediante el if se crea la condicion de que si cadena esta en el fichero\n",
    "        if cadena in comprobacion:\n",
    "            print(\"La cadena esta en la ruta\")\n",
    "        else:\n",
    "            print(\"La cadena no esta en la ruta\")\n",
    "        return None\n",
    "\n",
    "cadena = \"Hola\"\n",
    "#Se crea la ruta del fichero\n",
    "ruta = os.path.join(\"fichero\",\"ejercicio1.txt\")\n",
    "fichero_cadena(cadena,ruta)"
   ]
  },
  {
   "cell_type": "markdown",
   "id": "8ec0d46a-f309-4b5a-a8b7-0a5b99776b84",
   "metadata": {},
   "source": [
    "2. Escribe una función que reciba una lista, una ruta destino y un número *n*. La función debe crear un fichero en la ruta especificada. El contenido del fichero serán los primeros *n* elementos de la lista. La función debe controlar de manera apropiada los posibles valores de *n* que estén fuera de rango."
   ]
  },
  {
   "cell_type": "code",
   "execution_count": 14,
   "id": "eec8b734-f370-4ffe-a2d4-bdd4d63d2dc6",
   "metadata": {},
   "outputs": [],
   "source": [
    "#Creo una funcion que recibr 3 parametros\n",
    "def crear_fichero (ruta,lista,n):\n",
    "    #la condicion dice si n es mayo a la longitud de la lista\n",
    "    if n > len(lista):\n",
    "        #Se imprime un mensaje de advertencia\n",
    "        print(f\"n supera el tamaño de la lista\")\n",
    "#Se acede al recurso con with en mnodo de escritura(w) y acceso(t)\n",
    "    with open(ruta,\"wt\") as crear:\n",
    "        #En la variablke valores se guarda n cantidad de elemtos de la lista\n",
    "        valores = lista[:n]\n",
    "        #El for va a iterar cada elemento de val dentro de valores\n",
    "        for val in valores:\n",
    "            # escribe cada valor en e larchivo,convirtiendolo en string con un salto de liena\n",
    "            \n",
    "            crear.write(str(val)+\"\\n\")\n",
    "    return None;\n",
    "\n",
    "lista = [10,20,30,40]\n",
    "n = 2\n",
    "ruta = os.path.join(\"fichero\",\"ejercicio2.txt\")\n",
    "crear_fichero(ruta,lista,n)\n"
   ]
  },
  {
   "cell_type": "markdown",
   "id": "5afc5456-cc33-4da0-9e0c-5013d820afee",
   "metadata": {},
   "source": [
    "3. Escribe una función que reciba una ruta de un fichero de texto devuelva un diccionario con la frecuencia de aparición de cada palabra. Ejemplo: un fichero que contenga la frase 'es mejor que venga que que no venga' devolverá el siguiente diccionario: {'es' : 1, 'mejor' : 1, 'que' : 3, 'venga' : 2, 'no' : 1}. Para dividir un string en palabras puedes hacer uso del método *split*."
   ]
  },
  {
   "cell_type": "code",
   "execution_count": 13,
   "id": "7a6b2a09-5011-43ca-ac46-915aa6224e01",
   "metadata": {},
   "outputs": [
    {
     "data": {
      "text/plain": [
       "{'es': 1, 'mejor': 1, 'que': 3, 'venga': 2, 'no': 1}"
      ]
     },
     "execution_count": 13,
     "metadata": {},
     "output_type": "execute_result"
    }
   ],
   "source": [
    "#Defino una funcion llamada diccionario y esta recive un parametro.\n",
    "def diccionario (ruta):\n",
    "    #Se abre el archivo solo en mnodo lectura \n",
    "    with open (ruta,\"r\") as crear:\n",
    "        #Se lee todo el contenido del archivo y se guarda en la varibale frase\n",
    "        frase = crear.read()\n",
    "    #Con split se separa la frase en palbras, la frasee esta dentro del archivo\n",
    "    palabras = frase.split()\n",
    "    #El diccionario vacia va almacenar la frecuencia de cada palabra\n",
    "    diccionario = {}\n",
    "#Se itera x sobre cada elemento de palabras\n",
    "    for x in palabras:\n",
    "        #La condicion dice si la palbara ya esta en el diccionario va a aumentar su propio contador en 1\n",
    "        if x in diccionario:\n",
    "            diccionario[x] += 1\n",
    "        #Caso contrario el contador se queda en 1\n",
    "        else:\n",
    "            diccionario[x]=1\n",
    "        #Se retorna el diccionario\n",
    "    return diccionario\n",
    "\n",
    "    \n",
    "ruta = os.path.join(\"fichero\",\"ejercicio3.txt\")\n",
    "\n",
    "diccionario(ruta)"
   ]
  },
  {
   "cell_type": "code",
   "execution_count": null,
   "id": "a4f2e049-c2af-4ce3-a217-5069a569f716",
   "metadata": {},
   "outputs": [],
   "source": []
  }
 ],
 "metadata": {
  "kernelspec": {
   "display_name": "Python [conda env:base] *",
   "language": "python",
   "name": "conda-base-py"
  },
  "language_info": {
   "codemirror_mode": {
    "name": "ipython",
    "version": 3
   },
   "file_extension": ".py",
   "mimetype": "text/x-python",
   "name": "python",
   "nbconvert_exporter": "python",
   "pygments_lexer": "ipython3",
   "version": "3.13.2"
  }
 },
 "nbformat": 4,
 "nbformat_minor": 5
}
