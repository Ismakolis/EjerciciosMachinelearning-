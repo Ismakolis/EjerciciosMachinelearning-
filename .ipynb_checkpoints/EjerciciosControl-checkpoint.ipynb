{
 "cells": [
  {
   "cell_type": "markdown",
   "id": "284d37bc-5919-461a-953c-87f966a454fd",
   "metadata": {},
   "source": [
    "# Segundos Ejercicios\n"
   ]
  },
  {
   "cell_type": "markdown",
   "id": "fd8044ac-d43a-4248-8c20-8a4a9dd0a0af",
   "metadata": {},
   "source": [
    "1. Escribe un programa que calcule la suma de todos los elementos de una *lista* dada. La lista sólo puede contener elementos numéricos."
   ]
  },
  {
   "cell_type": "code",
   "execution_count": 2,
   "id": "0c30608a-3655-4b03-84bc-0f8baeb9ad7f",
   "metadata": {},
   "outputs": [
    {
     "name": "stdout",
     "output_type": "stream",
     "text": [
      "36\n"
     ]
    }
   ],
   "source": [
    "lista = [1,2,3,4,5,6,7,8]\n",
    "suma = 0\n",
    "\n",
    "for n in lista:\n",
    "    suma += n\n",
    "print(suma)"
   ]
  },
  {
   "cell_type": "markdown",
   "id": "adc797ff-ae00-4a54-85b1-d38def3d7967",
   "metadata": {},
   "source": [
    "2. Dada una lista con elementos duplicados, escribir un programa que muestre una nueva lista con el mismo contenido que la primera pero sin elementos duplicados. Para este ejercicio, no puedes hacer uso de objetos de tipo 'Set'. "
   ]
  },
  {
   "cell_type": "code",
   "execution_count": 16,
   "id": "36c43e4d-4e6a-4f48-9a33-7d50cc134f62",
   "metadata": {},
   "outputs": [
    {
     "name": "stdout",
     "output_type": "stream",
     "text": [
      "[1, 2, 3, 4, 5]\n"
     ]
    }
   ],
   "source": [
    "lista = [1,1,1,2,2,2,2,3,3,3,3,4,4,4,4,5,5,5,5]\n",
    "copia = []\n",
    "\n",
    "for i in lista:\n",
    "    if i not in copia:\n",
    "        copia.append(i)\n",
    "print(copia)"
   ]
  },
  {
   "cell_type": "markdown",
   "id": "21d15913-2996-4dec-b6e3-7364a3c30550",
   "metadata": {},
   "source": [
    "3. Escribe un programa que construya un diccionario que contenga un número (entre 1 y *n*) de elementos de esta forma: (x, x*x). Ejemplo: para n = 5, el diccionario resultante sería {1: 1, 2: 4, 3: 9, 4: 16, 5: 25}"
   ]
  },
  {
   "cell_type": "code",
   "execution_count": 15,
   "id": "f8d7cf5c-46c5-4eaa-a12c-cb9169507c06",
   "metadata": {},
   "outputs": [
    {
     "name": "stdout",
     "output_type": "stream",
     "text": [
      "{1: 1, 2: 4, 3: 9, 4: 16, 5: 25}\n"
     ]
    }
   ],
   "source": [
    "n = 5 \n",
    "diccionario = {}\n",
    "\n",
    "for i in range(1,n+1):\n",
    "    diccionario[i] = i*i\n",
    "print(diccionario)"
   ]
  },
  {
   "cell_type": "markdown",
   "id": "966a45da-8a6d-45ff-92a9-331f5681b72a",
   "metadata": {},
   "source": [
    "4. Escribe un programa que, dada una lista de palabras, compruebe si alguna empieza por 'a' y tiene más de 9 caracteres. Si dicha palabra existe, el programa deberá terminar en el momento exacto de encontrarla. El programa también debe mostrar un mensaje apropiado por pantalla que indique el éxito o el fracaso de la búsqueda. En caso de éxito, también se mostrará por pantalla la palabra encontrada."
   ]
  },
  {
   "cell_type": "code",
   "execution_count": 23,
   "id": "1c3c4898-3733-4ede-9917-7a9e8d970a00",
   "metadata": {},
   "outputs": [
    {
     "name": "stdout",
     "output_type": "stream",
     "text": [
      "Plabra encontrada asignatura\n"
     ]
    }
   ],
   "source": [
    "palabras = [\"amor\", \"asignatura\",\"pryecto\"]\n",
    "\n",
    "for i in palabras:\n",
    "    if len(i)>= 9 and i[0]==\"a\":\n",
    "        print(f\"Plabra encontrada {i}\")\n",
    "        break\n",
    "else:\n",
    "    print(\"palabra no encontrada\")"
   ]
  },
  {
   "cell_type": "markdown",
   "id": "01ef9885-6631-4355-8ae1-afa5af64100c",
   "metadata": {},
   "source": [
    "\n",
    "5. Dada una lista *L* de números positivos, escribir un programa que muestre otra lista (ordenada) que contenga todo índice *i* que cumpla la siguiente condición: *L[i]* es múltiplo de 3. Por ejemplo, dada la lista *L* = [3,5,13,12,1,9] el programa mostrará la lista [0,3,5] dado que *L[0], L[3] y L[5]* son, respectivamente, 3, 12 y 9, que son los únicos múltiplos de 3 que hay en *L*."
   ]
  },
  {
   "cell_type": "code",
   "execution_count": 29,
   "id": "d7e05b14-d87f-4a1b-b089-6b808d72357e",
   "metadata": {},
   "outputs": [
    {
     "name": "stdout",
     "output_type": "stream",
     "text": [
      "[0, 3, 5]\n"
     ]
    }
   ],
   "source": [
    "L = [3,5,13,12,1,9]\n",
    "multiplos = []\n",
    "\n",
    "for i in range(len(L)):\n",
    "    if L[i] % 3 == 0:\n",
    "        multiplos.append(i)\n",
    "print(multiplos)"
   ]
  },
  {
   "cell_type": "markdown",
   "id": "4807863b-fd89-4983-b2ea-8bc5a9f45408",
   "metadata": {},
   "source": [
    "6. Dado un diccionario cuyos elementos son pares de tipo string y numérico (es decir, las claves son de tipo 'str' y los valores son de tipo 'int' o 'float'), escribe un programa que muestre por pantalla la clave cuyo valor asociado representa el valor númerico más alto de todo el diccionario. Por ejemplo, para el diccionario {'a': 4.3, 'b': 1, 'c': 7.8, 'd': -5} la respuesta sería 'c', dado que 7.8 es el valor más alto de los números 4.3, 1, 7.8 y -5."
   ]
  },
  {
   "cell_type": "code",
   "execution_count": 35,
   "id": "77f2fb99-d892-449a-8f12-9216f4fd307d",
   "metadata": {},
   "outputs": [
    {
     "name": "stdout",
     "output_type": "stream",
     "text": [
      "c\n"
     ]
    }
   ],
   "source": [
    "diccionario = {'a': 4.3, 'b': 1, 'c': 7.8, 'd': -5}\n",
    "\n",
    "maximo = float(\"-inf\")\n",
    "\n",
    "for clave,valor in diccionario.items():\n",
    "    if valor > maximo:\n",
    "        maximo = valor\n",
    "        resultado = clave\n",
    "print(resultado)"
   ]
  },
  {
   "cell_type": "markdown",
   "id": "aa667544-c592-4893-95cd-85d2a6be4cbd",
   "metadata": {},
   "source": [
    "7. Dada la lista *a* = [2, 4, 6, 8] y la lista *b* = [7, 11, 15, 22], escribe un programa que itere las listas *a* y *b* y multiplique cada elemento de *a* que sea mayor que 5 por cada elemento de *b* que sea menor que 14. El programa debe mostrar los resultados por pantalla."
   ]
  },
  {
   "cell_type": "code",
   "execution_count": 43,
   "id": "878d4d2d-5a2f-4572-80a6-b5b5d2b9a667",
   "metadata": {},
   "outputs": [
    {
     "name": "stdout",
     "output_type": "stream",
     "text": [
      "6 x 7 = 42\n",
      "6 x 11 = 66\n",
      "8 x 7 = 56\n",
      "8 x 11 = 88\n"
     ]
    }
   ],
   "source": [
    "a = [2,4,6,8]\n",
    "b = [7,11,15,22]\n",
    "\n",
    "for i in a:\n",
    "    if i > 5:\n",
    "        for j in b:\n",
    "            if j < 14:\n",
    "                print(f\"{i} x {j} = {i*j}\")"
   ]
  },
  {
   "cell_type": "markdown",
   "id": "7d7408d4-d184-4a40-bdc4-6d93f211d04f",
   "metadata": {},
   "source": [
    "8. Escribir un programa que pida un valor numérico X al usuario. Para ello podéis hacer uso de la función predefinida 'input'. El programa deberá mostrar por pantalla el resultado de la división 10/X. En caso de que el usuario introduzca valores no apropiados, el programa deberá gestionar correctamente las excepciones, por ejemplo, mostrando mensajes informativos por pantalla."
   ]
  },
  {
   "cell_type": "code",
   "execution_count": 1,
   "id": "cf118301-e271-42b1-997d-4fc7b20ccfe8",
   "metadata": {},
   "outputs": [
    {
     "name": "stdin",
     "output_type": "stream",
     "text": [
      " 4\n"
     ]
    },
    {
     "name": "stdout",
     "output_type": "stream",
     "text": [
      "El resultado de 10/4 es: 2.5\n"
     ]
    }
   ],
   "source": [
    "\n",
    "try:\n",
    "    x = input()\n",
    "    numero = float(x)\n",
    "    print(f\"El resultado de 10/{x} es: {10/numero}\")\n",
    "except ValueError:\n",
    "    print(f\"El valor '{x}' no es numérico\")\n",
    "except ZeroDivisionError:\n",
    "    print(\"Error: división por cero\")"
   ]
  },
  {
   "cell_type": "markdown",
   "id": "e14c4961-f262-436c-b9d9-c9be0b496cc5",
   "metadata": {},
   "source": [
    "9. Escribir un programa que cree un *diccionario* cualquiera. Posteriormente, el programa pedirá al usuario (a través de la función predefinida 'input') que introduzca una clave del diccionario. Si la clave introducida es correcta (es decir, existe en el diccionario), el programa mostrará por pantalla el valor asociado a dicha clave. En caso de que la clave no exista, el programa gestionará de manera apropiada el error, por ejemplo, mostrando un mensaje informativo al usuario."
   ]
  },
  {
   "cell_type": "code",
   "execution_count": 3,
   "id": "eafe4d79-dbb1-4c2c-8928-62e7adcf05ba",
   "metadata": {},
   "outputs": [
    {
     "name": "stdin",
     "output_type": "stream",
     "text": [
      "Introduce una asignatura Redes\n"
     ]
    },
    {
     "name": "stdout",
     "output_type": "stream",
     "text": [
      "La nota de la asignatura 'Redes' es: 5.2\n"
     ]
    }
   ],
   "source": [
    "\n",
    "\n",
    "notas = {'Programación': 9.5, \"Inteligencia artificial\": 7.6, \"Redes\": 5.2, \"Sistemas operativos\": 6.4}\n",
    "\n",
    "try:\n",
    "    asignatura = input(\"Introduce una asignatura\")\n",
    "    print(f\"La nota de la asignatura '{asignatura}' es: {notas[asignatura]}\")\n",
    "except KeyError:\n",
    "    print(f\"Asignatura incorrecta: {asignatura}\")"
   ]
  },
  {
   "cell_type": "markdown",
   "id": "75b7ff3f-41b3-44f6-bd1c-16bfceaecdc9",
   "metadata": {},
   "source": [
    "10. Escribe una *list comprehension* que construya una lista con los números *enteros* positivos de una lista de números dada. La lista original puede incluir números de tipo *float*, los cuales deben ser descartados."
   ]
  },
  {
   "cell_type": "code",
   "execution_count": 5,
   "id": "f839e9a1-04fb-4b45-8ae3-fa171f592d7f",
   "metadata": {},
   "outputs": [
    {
     "data": {
      "text/plain": [
       "[1, 4, 2, 8]"
      ]
     },
     "execution_count": 5,
     "metadata": {},
     "output_type": "execute_result"
    }
   ],
   "source": [
    "\n",
    "lista = [1, 4, -3, -1.5, 6.5, 2, 8, 2.1]\n",
    "\n",
    "[numero for numero in lista if type(numero) == int and numero > 0]"
   ]
  },
  {
   "cell_type": "markdown",
   "id": "6c64700f-2b04-4ad6-9266-efc0e40bb2f7",
   "metadata": {},
   "source": [
    "11. Escribe una *set comprehension* que, dada una palabra, construya un conjunto que contenga las vocales de dicha palabra."
   ]
  },
  {
   "cell_type": "code",
   "execution_count": 8,
   "id": "b042e5a9-99a5-407c-8d06-307104c19524",
   "metadata": {},
   "outputs": [
    {
     "data": {
      "text/plain": [
       "{'a', 'e', 'i', 'o', 'u'}"
      ]
     },
     "execution_count": 8,
     "metadata": {},
     "output_type": "execute_result"
    }
   ],
   "source": [
    "\n",
    "palabra = \"murcielago\"\n",
    "\n",
    "{letra for letra in palabra if letra in ('a', 'e', 'i', 'o', 'u')}"
   ]
  },
  {
   "cell_type": "markdown",
   "id": "adeacfcd-f890-474f-8ec3-8a402c8c3c20",
   "metadata": {},
   "source": [
    "12. Escribe una *list comprehension* que construya una lista con todos los números del 0 al 50 que contengan el dígito 3. El resultado será: [3, 13, 23, 30, 31, 32, 33, 34, 35, 36, 37, 38, 39, 43]."
   ]
  },
  {
   "cell_type": "code",
   "execution_count": 9,
   "id": "3e5d4821-abe7-4e3d-8f5c-43dd48545495",
   "metadata": {},
   "outputs": [
    {
     "data": {
      "text/plain": [
       "[3, 13, 23, 30, 31, 32, 33, 34, 35, 36, 37, 38, 39, 43]"
      ]
     },
     "execution_count": 9,
     "metadata": {},
     "output_type": "execute_result"
    }
   ],
   "source": [
    "[numero for numero in range(51) if '3' in str(numero)]"
   ]
  },
  {
   "cell_type": "markdown",
   "id": "6ae3ebc7-5c00-4ccb-9d28-5261b7dcc527",
   "metadata": {},
   "source": [
    "\n",
    "13. Escribe una *dictionary comprehension* que construya un diccionario que incluya los tamaños de cada palabra en una frase dada. Ejemplo: el resultado para la frase \"Soy un ser humano\" será {'Soy': 3, 'un': 2, 'ser': 3, 'humano': 6}"
   ]
  },
  {
   "cell_type": "code",
   "execution_count": 10,
   "id": "5ccf8fc3-e520-4a59-942a-5f3b3bd167ad",
   "metadata": {},
   "outputs": [
    {
     "data": {
      "text/plain": [
       "{'Soy': 3, 'un': 2, 'ser': 3, 'humano': 6}"
      ]
     },
     "execution_count": 10,
     "metadata": {},
     "output_type": "execute_result"
    }
   ],
   "source": [
    "\n",
    "frase = \"Soy un ser humano\"\n",
    "\n",
    "{palabra : len(palabra) for palabra in frase.split() }"
   ]
  },
  {
   "cell_type": "markdown",
   "id": "0db751de-fdbc-48a3-8e02-e6c6afdae982",
   "metadata": {},
   "source": [
    "14. Escribe una *list comprehension* que construya una lista que incluya todos los números del 1 al 10 en orden. La primera mitad se mostrarán en formato numérico; la segunda mitad en texto. Es decir, el resultado será: [1, 2, 3, 4, 5, 'seis', 'siete', 'ocho', 'nueve', 'diez']."
   ]
  },
  {
   "cell_type": "code",
   "execution_count": 11,
   "id": "048d75c7-9b21-4346-ae74-c313270f534a",
   "metadata": {},
   "outputs": [
    {
     "data": {
      "text/plain": [
       "[1, 2, 3, 4, 5, 'seis', 'siete', 'ocho', 'nueve', 'diez']"
      ]
     },
     "execution_count": 11,
     "metadata": {},
     "output_type": "execute_result"
    }
   ],
   "source": [
    "numero_a_palabra = {6 : \"seis\", 7 : \"siete\", 8 : \"ocho\", 9 : \"nueve\", 10 : \"diez\"}\n",
    "\n",
    "[numero if numero <= 5 else numero_a_palabra[numero] for numero in range(1,11)]"
   ]
  },
  {
   "cell_type": "code",
   "execution_count": null,
   "id": "347abd37-4795-4b20-a854-0a0ddcec255e",
   "metadata": {},
   "outputs": [],
   "source": []
  }
 ],
 "metadata": {
  "kernelspec": {
   "display_name": "Python [conda env:base] *",
   "language": "python",
   "name": "conda-base-py"
  },
  "language_info": {
   "codemirror_mode": {
    "name": "ipython",
    "version": 3
   },
   "file_extension": ".py",
   "mimetype": "text/x-python",
   "name": "python",
   "nbconvert_exporter": "python",
   "pygments_lexer": "ipython3",
   "version": "3.13.2"
  }
 },
 "nbformat": 4,
 "nbformat_minor": 5
}
