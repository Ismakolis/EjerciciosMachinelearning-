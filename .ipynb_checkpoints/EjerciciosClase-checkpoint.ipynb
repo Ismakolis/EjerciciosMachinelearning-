{
 "cells": [
  {
   "cell_type": "markdown",
   "id": "d0ef5602-df2e-4e20-849d-9f4a0e62fe12",
   "metadata": {},
   "source": [
    "\n",
    "\n",
    "## Ejercicios en clase\n",
    "\n",
    "\n",
    "\n",
    "*Ismael Anrrango*"
   ]
  },
  {
   "cell_type": "markdown",
   "id": "0f9aabe8-82c3-4d92-9f2d-256930f02807",
   "metadata": {},
   "source": [
    "1. Escribe un programa que muestre por pantalla la concatenación de un número y una cadena de caracteres. Para obtener esta concatenación puedes usar uno de los operadores explicados en este tema. Ejemplo: dado el número 3 y la cadena 'abc', el programa mostrará la cadena '3abc'."
   ]
  },
  {
   "cell_type": "code",
   "execution_count": 2,
   "id": "cae78273-491e-4c35-9c5d-121ab788267f",
   "metadata": {},
   "outputs": [
    {
     "name": "stdout",
     "output_type": "stream",
     "text": [
      "3abc\n"
     ]
    }
   ],
   "source": [
    "# Ejercicio 1\n",
    "numero  = 3\n",
    "letras= 'abc'\n",
    "\n",
    "contatenacion= str(numero) +  letras\n",
    "print(contatenacion)"
   ]
  },
  {
   "cell_type": "markdown",
   "id": "d7d435b5-a5a2-4649-be8a-e2fb585fbdb5",
   "metadata": {},
   "source": [
    "2. Escribe un programa que muestre por pantalla un valor booleano que indique si un número entero N está contenido en un intervalo semiabierto [a,b), el cual establece una cota inferior a (inclusive) y una cota superior b (exclusive) para N."
   ]
  },
  {
   "cell_type": "code",
   "execution_count": 131,
   "id": "69d95958-ad50-4b39-a96c-00726d067ee8",
   "metadata": {},
   "outputs": [
    {
     "name": "stdin",
     "output_type": "stream",
     "text": [
      "Valor de cota inferior:  1\n",
      "Valor del numero:  4\n",
      "Valor de cota superior:  8\n"
     ]
    },
    {
     "name": "stdout",
     "output_type": "stream",
     "text": [
      "N esat dentro del intervalo semiabierto:  True\n"
     ]
    }
   ],
   "source": [
    "#Un intervalo semiabierto es un conjunto de números que incluye uno de sus extremos y excluye el otro.\n",
    "#Formula para el intervalo semiabierto a la derecha:  a ≤ x < b\"incluye el lado cerrado y excluye el lado abierto\"\n",
    "\n",
    "a = input(\"Valor de cota inferior: \")\n",
    "N = input (\"Valor del numero: \");\n",
    "b = input(\"Valor de cota superior: \")\n",
    "\n",
    "comprobacion = a <= N < b;\n",
    "\n",
    "print(\"N esat dentro del intervalo semiabierto: \",comprobacion)"
   ]
  },
  {
   "cell_type": "markdown",
   "id": "c1783bac-90e1-4498-99ee-aec572e39675",
   "metadata": {},
   "source": [
    "3. Escribe un programa que, dado dos strings S1 y S2 y dos números enteros N1 y N2, determine si el substring que en S1 se extiende desde la posición N1 a la N2 (ambos inclusive) está contenido en S2."
   ]
  },
  {
   "cell_type": "code",
   "execution_count": 130,
   "id": "1bfea44e-962c-4da4-b3b4-25d31933968e",
   "metadata": {},
   "outputs": [
    {
     "name": "stdout",
     "output_type": "stream",
     "text": [
      "Comida esta en:  Donando Comida\n"
     ]
    }
   ],
   "source": [
    "# S1= 'abcdefg'\n",
    "# S2='aeiou'\n",
    "\n",
    "S1 = \"Comida Sabrosa\"\n",
    "S2 = \"Donando Comida\"\n",
    "\n",
    "N1 = 0\n",
    "N2 = 5\n",
    "\n",
    "substring = S1[N1:N2+1]\n",
    "\n",
    "if substring in S2:\n",
    "    print(substring,\"esta en: \",S2)\n",
    "else:\n",
    "    print(substring, \"no esta en: \",S2)"
   ]
  },
  {
   "cell_type": "markdown",
   "id": "f929ee89-354f-4e04-bb56-a344c4aa71b1",
   "metadata": {},
   "source": [
    "4. Dada una lista con elementos duplicados, escribir un programa que muestre una nueva lista con el mismo contenido que la primera pero sin elementos duplicados."
   ]
  },
  {
   "cell_type": "code",
   "execution_count": 129,
   "id": "273e7334-0f43-4f06-98d0-86d773b41f1d",
   "metadata": {},
   "outputs": [
    {
     "name": "stdout",
     "output_type": "stream",
     "text": [
      "Lista con datos duplicados:  [1, 3, 3, 3, 4, 2, 6, 7, 8, 9, 10, 11, 12, 13, 14, 15]\n",
      "<class 'list'>\n",
      "{1, 2, 3, 4, 6, 7, 8, 9, 10, 11, 12, 13, 14, 15}\n",
      "<class 'set'>\n",
      "Lista2 sin datos duplicados:  [1, 2, 3, 4, 6, 7, 8, 9, 10, 11, 12, 13, 14, 15]\n",
      "<class 'list'>\n"
     ]
    }
   ],
   "source": [
    "lista = [1,3,3,3,4,2,6,7,8,9,10,11,12,13,14,15]\n",
    "print(\"Lista con datos duplicados: \",lista)\n",
    "print(type(lista))\n",
    "#la funcion set() crea un conjunto sin datos duplicados\n",
    "#Luego se utiliza list para convertir el set en una lita nuevamente\n",
    "lista2 = set(lista)\n",
    "print(lista2)\n",
    "print(type(lista2))\n",
    "lista2 = list(lista2)\n",
    "print(\"Lista2 sin datos duplicados: \",lista2)\n",
    "print(type(lista2))"
   ]
  },
  {
   "cell_type": "markdown",
   "id": "1b38f94e-8e54-4cfe-8b58-9fe31f506261",
   "metadata": {},
   "source": [
    "5. Escribe un programa que, dada una lista de strings L, un string s perteneciente a L y un string t, reemplace s por t en L. El programa debe mostrar la lista resultante por pantalla."
   ]
  },
  {
   "cell_type": "code",
   "execution_count": 128,
   "id": "012bbc74-20e1-4d30-bf58-452daa24a50b",
   "metadata": {},
   "outputs": [
    {
     "name": "stdout",
     "output_type": "stream",
     "text": [
      "['a', 'b', 'c', 'd']\n",
      "2\n",
      "['a', 'b', 'z', 'd']\n"
     ]
    }
   ],
   "source": [
    "L = [\"a\",\"b\",\"c\",\"d\"]\n",
    "print(L)\n",
    "s = \"c\"\n",
    "t = \"z\"\n",
    "#Si s esta en l entonces me trae el indice o posicion de s que vale a \"c\"\n",
    "if s in L:\n",
    "    print(L.index(s))\n",
    "#Remplazo el objeto en en el idice 2 por t que vale \"z\"\n",
    "L[2] = t\n",
    "print(L)"
   ]
  },
  {
   "cell_type": "markdown",
   "id": "da44aee8-443d-48a9-b792-c9d99141cf70",
   "metadata": {},
   "source": [
    "6. Escribe un programa que defina una tupla con elementos numéricos, reemplace el valor del último por un valor diferente y muestre la tupla por pantalla. Recuerda que las tuplas son inmutables. Tendrás que usar objetos intermedios."
   ]
  },
  {
   "cell_type": "code",
   "execution_count": 127,
   "id": "7a9e20a2-c7bf-4ff2-a9b1-635bd009a1e2",
   "metadata": {},
   "outputs": [
    {
     "name": "stdout",
     "output_type": "stream",
     "text": [
      "(1, 3, 4, 6, 7)\n",
      "<class 'tuple'>\n",
      "<class 'list'>\n",
      "(1, 3, 4, 6, 5)\n",
      "<class 'tuple'>\n"
     ]
    }
   ],
   "source": [
    "numeros = (1 ,3 , 4 , 6 , 7)\n",
    "print(numeros)\n",
    "print(type(numeros))\n",
    "#Como una tupla es inmutable lo qeu hago es convertir la tupla en una lista y luego modifico el untimo valor\n",
    "numeros = list(numeros)\n",
    "print(type(numeros))\n",
    "numeros[4]=5\n",
    "numeros = tuple(numeros)\n",
    "print(numeros)\n",
    "print(type(numeros))\n"
   ]
  },
  {
   "cell_type": "markdown",
   "id": "e6691b25-0c26-4e7f-8247-9f6d7d87bc53",
   "metadata": {},
   "source": [
    "7. Dada la lista [1,2,3,4,5,6,7,8] escribe un programa que, a partir de esta lista, obtenga la lista [8,6,4,2] y la muestre por pantalla."
   ]
  },
  {
   "cell_type": "code",
   "execution_count": 126,
   "id": "41226510-8262-4865-b5aa-9e6e65e0cb8c",
   "metadata": {},
   "outputs": [
    {
     "name": "stdout",
     "output_type": "stream",
     "text": [
      "[1, 2, 3, 4, 5, 6, 7, 8]\n",
      "[8, 6, 4, 2]\n"
     ]
    }
   ],
   "source": [
    "lista = [1 ,2 ,3,4 ,5 ,6,7, 8]\n",
    "print(lista)\n",
    "#Lo que hago es utilizar slicing, el inicio es -1 osea que va a emopezar desde el ultimo\n",
    "#el fin va hacer -8 por que asi no excluye el 2 en la repuesta y el paso es -2 para que salte de 1 a 2\n",
    "print(lista[-1:-8:-2])"
   ]
  },
  {
   "cell_type": "markdown",
   "id": "ce091759-374e-4e9b-a1fb-98f4adc122fe",
   "metadata": {},
   "source": [
    "8. Escribe un programa que, dada una tupla y un índice válido i, elimine el elemento de la tupla que se encuentra en la posición i. Para este ejercicio sólo puedes usar objetos de tipo tupla. No puedes convetir la tupla a una lista, por ejemplo."
   ]
  },
  {
   "cell_type": "code",
   "execution_count": 125,
   "id": "51d715a0-50e7-4ba3-8c5f-0f714002dc14",
   "metadata": {},
   "outputs": [
    {
     "name": "stdout",
     "output_type": "stream",
     "text": [
      "(10, 20, 30, 40, 50, 60)\n",
      "2311829872192\n",
      "tupla1:  (10, 20)\n",
      "tupla2 (40, 50, 60)\n",
      "(10, 20, 40, 50, 60)\n",
      "2311827922416\n"
     ]
    }
   ],
   "source": [
    "tupla = ( 10,20,30,40,50,60)\n",
    "i = 2;\n",
    "print(tupla)\n",
    "print(id(tupla))\n",
    "\n",
    "#Lo que hago es dividir a la tupla original y luego crear una tupla nueva. Por que no se puede modificar ujn tupla\n",
    "tupla1 = tupla[:i]\n",
    "print(\"tupla1: \",tupla1)\n",
    "tupla2 = tupla [i+1:6]\n",
    "print(\"tupla2\",tupla2)\n",
    "tupla= tupla1 + tupla2\n",
    "print(tupla)\n",
    "print(id(tupla))"
   ]
  },
  {
   "cell_type": "markdown",
   "id": "b79360bb-0763-4b61-ac07-c33392ccdc8b",
   "metadata": {},
   "source": [
    "9. Escribe un programa que obtenga la mediana de una lista de números. Recuerda que la mediana M de una lista de números L es el número que cumple la siguiente propiedad: la mitad de los números de L son superiores a M y la otra mitad son inferiores. Cuando el número de elementos de L es par, se puede considerar que hay dos medianas. No obstante, en este ejercicio consideraremos que únicamente existe una mediana."
   ]
  },
  {
   "cell_type": "code",
   "execution_count": 124,
   "id": "7690360d-887c-4c88-934c-9a46663f7e57",
   "metadata": {},
   "outputs": [
    {
     "name": "stdout",
     "output_type": "stream",
     "text": [
      "[1, 2, 3, 4, 5, 6, 7, 8, 9, 10]\n",
      "10\n",
      "5\n",
      "6\n",
      "5.5\n"
     ]
    }
   ],
   "source": [
    "L = [1,2,3,6,5,4,7,8,9,10]\n",
    "#Para calcular la media los valores tiene que estar orgamnizados por eso la funcion sorted\n",
    "L = sorted(L)\n",
    "print(L)\n",
    "#Tambien se necesita saber el numero total de datos paras eso se utiloiza la funcion len\n",
    "x = len(L)\n",
    "print(x)\n",
    "#Se calcula x que es el total de datos modulo de 2 para sacar el residuo y saber si el total de datos es par o impar\n",
    "if x % 2 == 0:\n",
    "#Como se trabaja con indices sobre la lista se especifica la lista luego eltotal de datos de la lista y se divide para 2 -1 para acceder al objeto del indice\n",
    "# que da como resultado de la division, se aplica la misma logica para los demas puntos.\n",
    "    primeraM = L[x//2 - 1]\n",
    "    print(primeraM)\n",
    "    segundaM = L[x//2]\n",
    "    print(segundaM)\n",
    "#Aqui sumo la \"primera mediana y segunda\" y la divido para dos para sacar 1 sola mediana o un solo punto central\n",
    "    mediana = (primeraM+segundaM)/2\n",
    "    print(mediana)\n",
    "else:\n",
    "    mediana = L[x//2]\n",
    "    print(mediana)"
   ]
  },
  {
   "cell_type": "code",
   "execution_count": null,
   "id": "ca0107aa-863e-4072-8b84-f55813be40f4",
   "metadata": {},
   "outputs": [],
   "source": []
  },
  {
   "cell_type": "code",
   "execution_count": null,
   "id": "0d386ed5-efef-485a-9869-37e30370513a",
   "metadata": {},
   "outputs": [],
   "source": []
  }
 ],
 "metadata": {
  "kernelspec": {
   "display_name": "Python [conda env:base] *",
   "language": "python",
   "name": "conda-base-py"
  },
  "language_info": {
   "codemirror_mode": {
    "name": "ipython",
    "version": 3
   },
   "file_extension": ".py",
   "mimetype": "text/x-python",
   "name": "python",
   "nbconvert_exporter": "python",
   "pygments_lexer": "ipython3",
   "version": "3.13.2"
  }
 },
 "nbformat": 4,
 "nbformat_minor": 5
}
